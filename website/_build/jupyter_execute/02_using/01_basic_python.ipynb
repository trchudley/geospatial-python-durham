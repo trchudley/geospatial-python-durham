{
 "cells": [
  {
   "cell_type": "markdown",
   "id": "d0bc2c81",
   "metadata": {},
   "source": [
    "# Basic Python"
   ]
  },
  {
   "cell_type": "markdown",
   "id": "948a0e20",
   "metadata": {},
   "source": [
    "The aim of the Jupyter Notebooks in this section, as with the rest of the documentation in this collection, is to give you a very brief whirlwind tour of how we might use Python to perform geospatial data analysis. It's not going to be an extremely detailed introduction that will allow to start doing advanced science with no other support - but it will point you in right direction for doing a wide variety of geospatial tasks, identifying the most common/established methods that you can use as a springboard for googling/LLMing a solution."
   ]
  },
  {
   "cell_type": "markdown",
   "id": "dceb6d5c",
   "metadata": {},
   "source": [
    "## Hello, World"
   ]
  },
  {
   "cell_type": "markdown",
   "id": "5446da3a",
   "metadata": {},
   "source": [
    "This is very basic Python that you can find at any tutorial, so I will cover it extremely quickly. If you're running this Notebook, and not just viewing it online, you will be able to edit and run the code blocks (\"cells\") yourself by clicking the 'play' button, or by pressing `SHIFT+ENTER`."
   ]
  },
  {
   "cell_type": "code",
   "execution_count": 1,
   "id": "21c736a9",
   "metadata": {},
   "outputs": [
    {
     "name": "stdout",
     "output_type": "stream",
     "text": [
      "hello world!\n"
     ]
    }
   ],
   "source": [
    "# Click on this cell and press SHIFT + ENTER to run this code,\n",
    "# which outputs the text 'hello world'.\n",
    "\n",
    "print('hello world!')"
   ]
  },
  {
   "cell_type": "markdown",
   "id": "7e646ca3",
   "metadata": {},
   "source": [
    "You can run code again and again. You can't hurt anything - if you break it, you can reboot the notebook by clicking `Kernel` in the tool bar, and `Restart Kernel` and `Clear Output of All Cells`.\n",
    "\n",
    "## Basic operations\n",
    "\n",
    "At the most basic level, we can use Python to do operations between the basic data types, which include numeric, string (text), and Boolean (`True`/`False`) data types."
   ]
  },
  {
   "cell_type": "code",
   "execution_count": 2,
   "id": "bc2d01c6",
   "metadata": {},
   "outputs": [
    {
     "data": {
      "text/plain": [
       "1"
      ]
     },
     "execution_count": 2,
     "metadata": {},
     "output_type": "execute_result"
    }
   ],
   "source": [
    "# By the way, this text is called a \"comment\". It's a message to other\n",
    "# humans. Starting a line with \"#\" tells the program not to read this\n",
    "# line. The program will go to the next line that doesn't start with '#'\n",
    "\n",
    "5 - 4"
   ]
  },
  {
   "cell_type": "code",
   "execution_count": 3,
   "id": "c9db57de",
   "metadata": {},
   "outputs": [
    {
     "data": {
      "text/plain": [
       "32"
      ]
     },
     "execution_count": 3,
     "metadata": {},
     "output_type": "execute_result"
    }
   ],
   "source": [
    "8 * 4"
   ]
  },
  {
   "cell_type": "code",
   "execution_count": 4,
   "id": "b7d2467a",
   "metadata": {},
   "outputs": [
    {
     "data": {
      "text/plain": [
       "20"
      ]
     },
     "execution_count": 4,
     "metadata": {},
     "output_type": "execute_result"
    }
   ],
   "source": [
    "(7-3) * 5"
   ]
  },
  {
   "cell_type": "code",
   "execution_count": 5,
   "id": "9d93a442",
   "metadata": {},
   "outputs": [
    {
     "data": {
      "text/plain": [
       "True"
      ]
     },
     "execution_count": 5,
     "metadata": {},
     "output_type": "execute_result"
    }
   ],
   "source": [
    "5 == (1 + 4)   # Two equal signs ('==') evaluates whether the left\n",
    "               # side is equal to the right side, and returns True/False\n",
    "               # (a data type known as a 'boolean' or 'bool')"
   ]
  },
  {
   "cell_type": "markdown",
   "id": "99b0da71",
   "metadata": {},
   "source": [
    "\n",
    "We can string together more complex ideas by 'storing' values as variables:"
   ]
  },
  {
   "cell_type": "code",
   "execution_count": 6,
   "id": "4eb115d6",
   "metadata": {},
   "outputs": [
    {
     "data": {
      "text/plain": [
       "7"
      ]
     },
     "execution_count": 6,
     "metadata": {},
     "output_type": "execute_result"
    }
   ],
   "source": [
    "# the following lines define variables called \"a\" and \"b\"\n",
    "a = 4\n",
    "b = 3\n",
    "\n",
    "# the next line shows us what a plus b is.\n",
    "a+b"
   ]
  },
  {
   "cell_type": "code",
   "execution_count": 7,
   "id": "cb4d666d",
   "metadata": {},
   "outputs": [
    {
     "name": "stdout",
     "output_type": "stream",
     "text": [
      "Hello, my name is Tom\n"
     ]
    }
   ],
   "source": [
    "name = 'Tom'  # Now we're defining a 'string' rather than a number!\n",
    "\n",
    "print('Hello, my name is ' + name)"
   ]
  },
  {
   "cell_type": "markdown",
   "id": "3940e3f2",
   "metadata": {},
   "source": [
    "\n",
    "Variables are remembered between cells:"
   ]
  },
  {
   "cell_type": "code",
   "execution_count": 8,
   "id": "583b1fe0",
   "metadata": {},
   "outputs": [
    {
     "data": {
      "text/plain": [
       "16"
      ]
     },
     "execution_count": 8,
     "metadata": {},
     "output_type": "execute_result"
    }
   ],
   "source": [
    "c = a*a  # this line calculates a times a and saves the result as a varialbe called \"c\"\n",
    "c        # this line tells the program to show us what \"c\" is."
   ]
  },
  {
   "cell_type": "markdown",
   "id": "4af8ed40",
   "metadata": {},
   "source": [
    "\n",
    "However, the cells need to be run in order for Python to work. In the first of the two cells below, we try and use a variable not_defined_yet before we define it. It will produce an error message. If you then run the second, where we define the variable, and then return to the first, it will work:"
   ]
  },
  {
   "cell_type": "code",
   "execution_count": 9,
   "id": "0394e7e7",
   "metadata": {},
   "outputs": [
    {
     "ename": "NameError",
     "evalue": "name 'not_defined_yet' is not defined",
     "output_type": "error",
     "traceback": [
      "\u001b[31m---------------------------------------------------------------------------\u001b[39m",
      "\u001b[31mNameError\u001b[39m                                 Traceback (most recent call last)",
      "\u001b[36mCell\u001b[39m\u001b[36m \u001b[39m\u001b[32mIn[9]\u001b[39m\u001b[32m, line 1\u001b[39m\n\u001b[32m----> \u001b[39m\u001b[32m1\u001b[39m \u001b[43mnot_defined_yet\u001b[49m ** \u001b[32m2\u001b[39m  \u001b[38;5;66;03m# Two asterisks raises the variable to a\u001b[39;00m\n\u001b[32m      2\u001b[39m                       \u001b[38;5;66;03m# power - here, we're calculating the square.\u001b[39;00m\n",
      "\u001b[31mNameError\u001b[39m: name 'not_defined_yet' is not defined"
     ]
    }
   ],
   "source": [
    "not_defined_yet ** 2  # Two asterisks raises the variable to a\n",
    "                      # power - here, we're calculating the square."
   ]
  },
  {
   "cell_type": "code",
   "execution_count": 10,
   "id": "82bcb169",
   "metadata": {},
   "outputs": [],
   "source": [
    "not_defined_yet = 5"
   ]
  },
  {
   "cell_type": "markdown",
   "id": "8fb0c62b",
   "metadata": {},
   "source": [
    "## Basic data structures and operations"
   ]
  },
  {
   "cell_type": "markdown",
   "id": "81aaa834",
   "metadata": {},
   "source": [
    "We can combine our data types into data structures. Lists and Tuples are both chains of multiple items, with some slight differences in the background that give them slightly different purposes (you can explore this yourself). Dictionaries are used to store items in key:value pairs. "
   ]
  },
  {
   "cell_type": "code",
   "execution_count": 14,
   "id": "979f9dc6",
   "metadata": {},
   "outputs": [
    {
     "name": "stdout",
     "output_type": "stream",
     "text": [
      "1\n",
      "2\n",
      "3\n",
      "4\n",
      "5\n",
      "Hello, my name is Tom\n"
     ]
    }
   ],
   "source": [
    "my_list = [1, 2, 3, 4, 5]\n",
    "\n",
    "for i in my_list:\n",
    "    print(i)\n",
    "\n",
    "my_dictionary = {\n",
    "    'name': 'Tom',\n",
    "    'language': 'Python',\n",
    "    'framework': 'Jupyter'\n",
    "}\n",
    "\n",
    "print('Hello, my name is ' + my_dictionary['name'])"
   ]
  },
  {
   "cell_type": "markdown",
   "id": "fd464705",
   "metadata": {},
   "source": [
    "Note that above I used a 'for loop' to iterate through my list - it will go through the list one at a time, applying the same commands to each of them. \n",
    "\n",
    "There are other ways we can interact with our data, such as `while` and `if`-`else` statements. `while` will continue looping through a set of commands until a condition is reached. `if` statements will only perform a certain task if a condition is met."
   ]
  },
  {
   "cell_type": "code",
   "execution_count": 15,
   "id": "1d9d1aab",
   "metadata": {},
   "outputs": [
    {
     "name": "stdout",
     "output_type": "stream",
     "text": [
      "0\n",
      "1\n",
      "2\n",
      "The number three!\n",
      "4\n"
     ]
    }
   ],
   "source": [
    "i = 0\n",
    "\n",
    "while i < 5:\n",
    "\n",
    "    if i == 3:\n",
    "        print('The number three!')\n",
    "    else:\n",
    "        print(i)\n",
    "\n",
    "    i = i + 1\n"
   ]
  },
  {
   "cell_type": "markdown",
   "id": "af691423",
   "metadata": {},
   "source": [
    "## Functions"
   ]
  },
  {
   "cell_type": "markdown",
   "id": "5735c420",
   "metadata": {},
   "source": [
    "\n",
    "We can begin to create more complex proceses using 'functions'. We've already seen one function in this notebook - the print function above. However, it's possible to define more functions:"
   ]
  },
  {
   "cell_type": "code",
   "execution_count": 16,
   "id": "b4fdadbc",
   "metadata": {},
   "outputs": [],
   "source": [
    "# Define a function that will take a generic variable ('x') and return an output ('y')\n",
    "\n",
    "def multiply_by_two(x):\n",
    "    y = x * 2\n",
    "    return y"
   ]
  },
  {
   "cell_type": "markdown",
   "id": "01c63fa9",
   "metadata": {},
   "source": [
    "Now, we can use this function elsewhere in the Notebook:"
   ]
  },
  {
   "cell_type": "code",
   "execution_count": 17,
   "id": "9990256f",
   "metadata": {},
   "outputs": [
    {
     "data": {
      "text/plain": [
       "8"
      ]
     },
     "execution_count": 17,
     "metadata": {},
     "output_type": "execute_result"
    }
   ],
   "source": [
    "d = multiply_by_two(4)\n",
    "\n",
    "d"
   ]
  },
  {
   "cell_type": "markdown",
   "id": "e2483346",
   "metadata": {},
   "source": [
    "\n",
    "The strength of Python's open-source capabilities is that we don't just need to rely on our own functions - instead, we'll be using those made by others. We can import packages made by others, giving us access to new functions. \n",
    "\n",
    "A default package included within the Python standard library is math, which provides the sort of functions you might expect:\n"
   ]
  },
  {
   "cell_type": "code",
   "execution_count": 18,
   "id": "e5727cbc",
   "metadata": {},
   "outputs": [
    {
     "data": {
      "text/plain": [
       "4.0"
      ]
     },
     "execution_count": 18,
     "metadata": {},
     "output_type": "execute_result"
    }
   ],
   "source": [
    "import math\n",
    "\n",
    "# Now we have `math`, we can call its functions in the form math.name_of_function(input)\n",
    "\n",
    "e = math.sqrt(16)  # Calculate the square root\n",
    "\n",
    "e"
   ]
  }
 ],
 "metadata": {
  "kernelspec": {
   "display_name": "geospatial",
   "language": "python",
   "name": "python3"
  },
  "language_info": {
   "codemirror_mode": {
    "name": "ipython",
    "version": 3
   },
   "file_extension": ".py",
   "mimetype": "text/x-python",
   "name": "python",
   "nbconvert_exporter": "python",
   "pygments_lexer": "ipython3",
   "version": "3.13.7"
  }
 },
 "nbformat": 4,
 "nbformat_minor": 5
}