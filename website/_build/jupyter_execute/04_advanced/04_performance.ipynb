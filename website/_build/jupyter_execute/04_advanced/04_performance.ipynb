{
 "cells": [
  {
   "cell_type": "markdown",
   "id": "95c3896b",
   "metadata": {},
   "source": [
    "# Improving Performance"
   ]
  },
  {
   "cell_type": "markdown",
   "id": "bff02193",
   "metadata": {},
   "source": [
    "> This page is in production"
   ]
  },
  {
   "cell_type": "markdown",
   "id": "a79f4a1d",
   "metadata": {},
   "source": [
    " - `multi`, `numba`, and `dask`"
   ]
  }
 ],
 "metadata": {
  "language_info": {
   "codemirror_mode": {
    "name": "ipython",
    "version": 3
   },
   "file_extension": ".py",
   "mimetype": "text/x-python",
   "name": "python",
   "nbconvert_exporter": "python",
   "pygments_lexer": "ipython3",
   "version": "3.13.7"
  }
 },
 "nbformat": 4,
 "nbformat_minor": 5
}