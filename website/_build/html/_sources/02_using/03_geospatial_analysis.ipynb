{
 "cells": [
  {
   "cell_type": "markdown",
   "id": "d0bc2c81",
   "metadata": {},
   "source": [
    "# Geospatial Data Analysis"
   ]
  },
  {
   "cell_type": "markdown",
   "id": "ef336ff9",
   "metadata": {},
   "source": [
    "> **Page in Production**"
   ]
  },
  {
   "cell_type": "markdown",
   "id": "43e0762b",
   "metadata": {},
   "source": [
    "## Python packages to load vector geospatial data"
   ]
  },
  {
   "cell_type": "code",
   "execution_count": null,
   "id": "c1deac28",
   "metadata": {},
   "outputs": [],
   "source": []
  },
  {
   "cell_type": "markdown",
   "id": "0b04106b",
   "metadata": {},
   "source": [
    "## Python packages to load n-dimensional climate data (e.g. netCDFs)"
   ]
  },
  {
   "cell_type": "code",
   "execution_count": null,
   "id": "13aebcec",
   "metadata": {},
   "outputs": [],
   "source": []
  },
  {
   "cell_type": "markdown",
   "id": "b9f1ac5a",
   "metadata": {},
   "source": [
    "## Python packages to load raster data"
   ]
  },
  {
   "cell_type": "markdown",
   "id": "e73e008b",
   "metadata": {},
   "source": []
  },
  {
   "cell_type": "code",
   "execution_count": null,
   "id": "56246203",
   "metadata": {},
   "outputs": [],
   "source": []
  }
 ],
 "metadata": {
  "kernelspec": {
   "display_name": "geospatial",
   "language": "python",
   "name": "python3"
  },
  "language_info": {
   "codemirror_mode": {
    "name": "ipython",
    "version": 3
   },
   "file_extension": ".py",
   "mimetype": "text/x-python",
   "name": "python",
   "nbconvert_exporter": "python",
   "pygments_lexer": "ipython3",
   "version": "3.12.10"
  }
 },
 "nbformat": 4,
 "nbformat_minor": 5
}
