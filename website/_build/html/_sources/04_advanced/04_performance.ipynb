{
 "cells": [
  {
   "cell_type": "markdown",
   "id": "95c3896b",
   "metadata": {},
   "source": [
    "# Improving Performance"
   ]
  },
  {
   "cell_type": "markdown",
   "id": "bff02193",
   "metadata": {},
   "source": [
    "> This page is in production"
   ]
  },
  {
   "cell_type": "markdown",
   "id": "a79f4a1d",
   "metadata": {},
   "source": [
    " - `multi`, `numba`, and `dask`"
   ]
  }
 ],
 "metadata": {
  "language_info": {
   "name": "python"
  }
 },
 "nbformat": 4,
 "nbformat_minor": 5
}
